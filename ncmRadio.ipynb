{
 "cells": [
  {
   "cell_type": "code",
   "execution_count": null,
   "id": "d2f33f2a-1d62-4478-9dd6-7d1878fa8437",
   "metadata": {},
   "outputs": [],
   "source": [
    "import sqlite3, os, requests, json,sys, hashlib"
   ]
  },
  {
   "cell_type": "code",
   "execution_count": null,
   "id": "30d7b34c-87c2-4d02-b086-55aa1d8b9481",
   "metadata": {},
   "outputs": [],
   "source": [
    "import pandas as pd"
   ]
  },
  {
   "cell_type": "code",
   "execution_count": null,
   "id": "1ac816b4-093b-4bea-b573-59530257eeab",
   "metadata": {},
   "outputs": [],
   "source": [
    "import mutagen, tempfile, hashlib"
   ]
  },
  {
   "cell_type": "code",
   "execution_count": null,
   "id": "5eb3aa86-1140-4663-bde1-9e3f82d4c197",
   "metadata": {},
   "outputs": [],
   "source": [
    "from io import BytesIO"
   ]
  },
  {
   "cell_type": "code",
   "execution_count": null,
   "id": "baef605a-c925-4242-80c8-0f9a3f54e7ee",
   "metadata": {},
   "outputs": [],
   "source": [
    "from PIL import Image"
   ]
  },
  {
   "cell_type": "code",
   "execution_count": null,
   "id": "63a2b25b-e919-4904-97f5-8c55b80c0b4f",
   "metadata": {},
   "outputs": [],
   "source": [
    "from mutagen.mp3 import MP3\n",
    "from mutagen.id3 import ID3, APIC"
   ]
  },
  {
   "cell_type": "code",
   "execution_count": null,
   "id": "9b0ec3d1-6b90-444f-a269-6e2c2210ffbc",
   "metadata": {},
   "outputs": [],
   "source": [
    "#填入自己的webdb路径，一般都在下面这个位置（换成自己用户名）\n",
    "web_library=(\"C:\\\\Users\\\\90500\\AppData\\\\Local\\\\Netease\\\\CloudMusic\\\\Library\\\\webdb.dat\")\n",
    "#填入网易云api服务器路径，见：https://binaryify.github.io/NeteaseCloudMusicApi/#/\n",
    "#我不保证自己搭的API的可用性！建议自己npx一个服务器\n",
    "cloudmusic_api = \"http://ncm.lzfluorite.xyz\"\n",
    "#填入网易云歌曲下载目录\n",
    "cloudmusic_root= \"F:\\\\CloudMusic\""
   ]
  },
  {
   "cell_type": "code",
   "execution_count": null,
   "id": "f2e3a692-a9a2-4e9a-bbaf-da6914916c93",
   "metadata": {},
   "outputs": [],
   "source": [
    "# collect radio basic info from NCM sqlite\n",
    "conn = sqlite3.connect(web_library)\n",
    "(\"database ready\")\n",
    "sql_query=pd.read_sql_query(\n",
    "    '''SELECT track_name, artist_name, relative_path, type_extra \n",
    "    FROM web_offline_track \n",
    "    WHERE type_extra IS NOT NULL\n",
    "    ''',conn)\n",
    "conn.close()\n",
    "(\"Database connection closed\")\n",
    "df = pd.DataFrame(sql_query)"
   ]
  },
  {
   "cell_type": "code",
   "execution_count": null,
   "id": "30a194fe-24fe-467f-ba26-eea6d0e56caf",
   "metadata": {},
   "outputs": [],
   "source": [
    "# using request to save retrieve file\n",
    "def retrieveWebImg(img_url):\n",
    "    response = requests.get(img_url)\n",
    "    if response.status_code !=200:\n",
    "        return None\n",
    "    image = Image.open(BytesIO(response.content))\n",
    "    return image"
   ]
  },
  {
   "cell_type": "code",
   "execution_count": null,
   "id": "c5719fa5-d422-4342-b920-a6a59743ccb8",
   "metadata": {},
   "outputs": [],
   "source": [
    "def retrieveEmbededImg(audio_path_str):\n",
    "    audio_path = os.path.join(audio_path_str)\n",
    "    tags = ID3(audio_path)\n",
    "    if tags.get(\"APIC\") is None:\n",
    "        #貌似有一些明明有但是读不到的现象，顶多覆盖一次，不影响使用\n",
    "        return None\n",
    "    pict = tags.get(\"APIC:\").data\n",
    "    return Image.open(BytesIO(pict))"
   ]
  },
  {
   "cell_type": "code",
   "execution_count": null,
   "id": "0dbccd95-c013-4229-b192-7d3b9c9f97a9",
   "metadata": {},
   "outputs": [],
   "source": [
    "def compareImage(image1, image2):\n",
    "    return hashlib.md5(image1.tobytes()).hexdigest()==hashlib.md5(image2.tobytes()).hexdigest()"
   ]
  },
  {
   "cell_type": "code",
   "execution_count": null,
   "id": "af61e432-7193-4c46-bd94-e53131ebb07f",
   "metadata": {},
   "outputs": [],
   "source": [
    "def embedArt(audio_path, image_struct):\n",
    "    #assuming they are all mp3, haven't seen other forms in radio so far.\n",
    "    audio = MP3(audio_path, ID3=ID3)\n",
    "    #delete previous album art\n",
    "    audio.tags.delall(\"APIC\")\n",
    "    #create a temporary file to store online cover\n",
    "    fd, path = tempfile.mkstemp(suffix=\".\"+image_struct.format)\n",
    "    try:\n",
    "        image_struct.save(path)\n",
    "        with open(path, 'rb') as albumart: \n",
    "            audio.tags.add(APIC(mime=Image.MIME[image_struct.format],type=3,desc=u'Cover',data=albumart.read()))\n",
    "            audio.tags.save(audio_path)\n",
    "    finally:\n",
    "        os.close(fd)\n",
    "        os.remove(path)"
   ]
  },
  {
   "cell_type": "code",
   "execution_count": null,
   "id": "1ecb0cbe-6efd-4c21-bfd6-7091b64ac6d5",
   "metadata": {},
   "outputs": [],
   "source": [
    "missing, updated, total = 0, 0, 0\n",
    "for track, path, id in zip(df[\"track_name\"],df[\"relative_path\"],df[\"type_extra\"]):\n",
    "    total += 1\n",
    "    str_id = str(id)\n",
    "    para = {\"id\":str_id}\n",
    "    print(\"tracking:\"+track+\"||\"+str_id)\n",
    "    #retrieve cover art url from NCM api\n",
    "    r = requests.get(cloudmusic_api +\"/dj/program/detail\",params=para)\n",
    "    if r.status_code != 200:\n",
    "        # radio deleted? skip.\n",
    "        print(r.status_code)\n",
    "        print(r.text)\n",
    "        missing +=1\n",
    "        continue\n",
    "    cover_url = json.loads(r.text)[\"program\"][\"coverUrl\"]\n",
    "    # print(\"debug:\"+cover_url)\n",
    "    #get the audio path\n",
    "    absolute_audio_path = os.path.join(cloudmusic_root,path)\n",
    "    #get online cover\n",
    "    web_img = retrieveWebImg(cover_url)\n",
    "    #get embedded cover\n",
    "    embeded_img = retrieveEmbededImg(absolute_audio_path)\n",
    "    if embeded_img is None:\n",
    "        print(\"no embedded img\")\n",
    "        temp_bool = False\n",
    "    else:\n",
    "        temp_bool = compareImage(web_img,embeded_img)\n",
    "    #only update cover art if web art differs from embedded art || no embedded art\n",
    "    if not temp_bool:\n",
    "        embedArt(absolute_audio_path,web_img)\n",
    "        print(\"updated:\"+track)\n",
    "        updated += 1\n",
    "    else:\n",
    "        print(\"same albumart md5, skipped\")\n",
    "print(\"Task completed! Total:{0},Updated:{1},Missing:{2}\".format(str(total),str(updated),str(missing)))"
   ]
  },
  {
   "cell_type": "code",
   "execution_count": null,
   "id": "8e32da83-fe1f-44ca-a836-fa712aba578d",
   "metadata": {},
   "outputs": [],
   "source": []
  }
 ],
 "metadata": {
  "kernelspec": {
   "display_name": "Python 3 (ipykernel)",
   "language": "python",
   "name": "python3"
  },
  "language_info": {
   "codemirror_mode": {
    "name": "ipython",
    "version": 3
   },
   "file_extension": ".py",
   "mimetype": "text/x-python",
   "name": "python",
   "nbconvert_exporter": "python",
   "pygments_lexer": "ipython3",
   "version": "3.10.5"
  }
 },
 "nbformat": 4,
 "nbformat_minor": 5
}
